{
 "cells": [
  {
   "cell_type": "markdown",
   "id": "3afd88d4",
   "metadata": {},
   "source": [
    "### Web Scraping e Análise de dados"
   ]
  },
  {
   "cell_type": "markdown",
   "id": "ae2d7418",
   "metadata": {},
   "source": [
    "#### Esse é um projeto do Curso de Web Scraping e Análise de dados da Data Science Academy, que serviu como parte do meu estudo para aplicar Web Scraping no dia-a-dia nas minhas análises e pretendo avançar nesse projeto e criar novas visões futuras, como: pesquisas de palavras-chave, análise de mercado e outras análises que forem possíveis criar para os tomadores de decisão"
   ]
  },
  {
   "cell_type": "markdown",
   "id": "10a6631f",
   "metadata": {},
   "source": [
    "É um projeto que fiz algumas alterações no código e adicionei novas colunas para crescer as análises. Percebi o quanto é legal essa parte de análise dos dados extraídos por web scraping, até por que algumas das tags e classes do website indeed, tinham sido alteradas, então tive que colocar em prática o HTML e identificar as div, class e tags das colunas que estão sendo feitas a análises."
   ]
  },
  {
   "cell_type": "markdown",
   "id": "04c12163",
   "metadata": {},
   "source": [
    "A ideia desse projeto é através do framework Webdriver - Selenium, extrair dados do website Indeed, vagas que contenham Data Science e com a localidade no Brasil, e usando a biblioteca BeautifulSoup para extrair os elementos do HTML, inserindo os dados em um DataFrame para assim fazer as análises dos dados e criar gráficos para a visualização. \n",
    "\n",
    "Também foi possível fazer a análise das skills mais buscadas (nos sites filtrados) usando o pacote NLTK para o uso das stopwords e word tokenize"
   ]
  },
  {
   "cell_type": "code",
   "execution_count": 1,
   "id": "ab9ab7b1",
   "metadata": {},
   "outputs": [],
   "source": [
    "# imports\n",
    "import bs4 \n",
    "import selenium\n",
    "import numpy as np\n",
    "import pandas as pd\n",
    "import matplotlib\n",
    "import matplotlib.pyplot as plt\n",
    "from selenium import webdriver\n",
    "from bs4 import BeautifulSoup\n",
    "from collections import Counter\n",
    "import sys\n",
    "%matplotlib inline\n",
    "\n",
    "# import do pacote NLTK para o processamento de linguagem natural\n",
    "import nltk\n",
    "from nltk.corpus import stopwords\n",
    "from nltk import word_tokenize"
   ]
  },
  {
   "cell_type": "code",
   "execution_count": 2,
   "id": "160d8472",
   "metadata": {},
   "outputs": [
    {
     "name": "stderr",
     "output_type": "stream",
     "text": [
      "c:\\users\\cesar\\appdata\\local\\programs\\python\\python37\\lib\\site-packages\\ipykernel_launcher.py:7: DeprecationWarning: executable_path has been deprecated, please pass in a Service object\n",
      "  import sys\n",
      "c:\\users\\cesar\\appdata\\local\\programs\\python\\python37\\lib\\site-packages\\ipykernel_launcher.py:7: DeprecationWarning: use options instead of chrome_options\n",
      "  import sys\n"
     ]
    }
   ],
   "source": [
    "# Definição do path onde esta instalado o navegador e o chromedriver\n",
    "\n",
    "options = webdriver.ChromeOptions()\n",
    "options.binary_location = r\"C:\\Program Files\\BraveSoftware\\Brave-Browser\\Application\\brave.exe\"\n",
    "chrome_driver_path = r\"C:\\Users\\Cesar\\Music\\Formacao-Cientista-Dados\\webscraping-indeed\\chromedriver.exe\"\n",
    "\n",
    "browser = webdriver.Chrome(chrome_driver_path, chrome_options = options)"
   ]
  },
  {
   "cell_type": "code",
   "execution_count": 3,
   "id": "14432f32",
   "metadata": {},
   "outputs": [],
   "source": [
    "# Criação do dataframe para receber os dados\n",
    "dados = pd.DataFrame(columns = [\"Título\", \"Localidade\", \"Empresa\", \"Salario\", \"Tipo_Pesquisa\", \"Desc\", \"Avaliações\"])"
   ]
  },
  {
   "cell_type": "code",
   "execution_count": 4,
   "id": "6bd8524b",
   "metadata": {},
   "outputs": [],
   "source": [
    "# Abre a conexão com o site e faz a pesquisa dos termos\n",
    "#browser.get(\"https://br.indeed.com/jobs?q=data%20science&l=Home-Office\")\n",
    "browser.get(\"https://br.indeed.com/jobs?q=data%20science&l=Brasil\")\n",
    "browser.implicitly_wait(60)"
   ]
  },
  {
   "cell_type": "code",
   "execution_count": 5,
   "id": "a54b87f7",
   "metadata": {},
   "outputs": [
    {
     "name": "stderr",
     "output_type": "stream",
     "text": [
      "c:\\users\\cesar\\appdata\\local\\programs\\python\\python37\\lib\\site-packages\\ipykernel_launcher.py:2: DeprecationWarning: find_elements_by_class_name is deprecated. Please use find_elements(by=By.CLASS_NAME, value=name) instead\n",
      "  \n"
     ]
    }
   ],
   "source": [
    "# Gravamos o resultado do scraping\n",
    "resultado = browser.find_elements_by_class_name(\"result\")"
   ]
  },
  {
   "cell_type": "code",
   "execution_count": 6,
   "id": "fbaa223d",
   "metadata": {},
   "outputs": [
    {
     "data": {
      "text/plain": [
       "list"
      ]
     },
     "execution_count": 6,
     "metadata": {},
     "output_type": "execute_result"
    }
   ],
   "source": [
    "#Tipo do resultado\n",
    "type(resultado)"
   ]
  },
  {
   "cell_type": "code",
   "execution_count": 7,
   "id": "3d06d9f9",
   "metadata": {},
   "outputs": [
    {
     "data": {
      "text/plain": [
       "[<selenium.webdriver.remote.webelement.WebElement (session=\"4801f17682a754565b9162831553ae32\", element=\"ac60c7d8-540a-4c92-adda-99b4d70540b8\")>,\n",
       " <selenium.webdriver.remote.webelement.WebElement (session=\"4801f17682a754565b9162831553ae32\", element=\"5e8e8462-a73b-49ae-8d7a-0d2137274777\")>,\n",
       " <selenium.webdriver.remote.webelement.WebElement (session=\"4801f17682a754565b9162831553ae32\", element=\"8cf71cc3-5ac9-4951-9238-6df40fa5424b\")>,\n",
       " <selenium.webdriver.remote.webelement.WebElement (session=\"4801f17682a754565b9162831553ae32\", element=\"279e35d0-cf8f-4605-9f97-8b42cbc7f3d6\")>,\n",
       " <selenium.webdriver.remote.webelement.WebElement (session=\"4801f17682a754565b9162831553ae32\", element=\"6fca2da4-2e24-4461-8c25-ae45e27353fa\")>,\n",
       " <selenium.webdriver.remote.webelement.WebElement (session=\"4801f17682a754565b9162831553ae32\", element=\"4e9353a0-cbfe-43f2-8e14-c7b57b63ab3c\")>,\n",
       " <selenium.webdriver.remote.webelement.WebElement (session=\"4801f17682a754565b9162831553ae32\", element=\"2eb422ac-3f73-45d1-aa1b-d0458149a1ce\")>,\n",
       " <selenium.webdriver.remote.webelement.WebElement (session=\"4801f17682a754565b9162831553ae32\", element=\"1b20e73c-42f9-4db8-927d-59732bb17da4\")>,\n",
       " <selenium.webdriver.remote.webelement.WebElement (session=\"4801f17682a754565b9162831553ae32\", element=\"58b437d9-1ae6-4ded-92f8-cddbf5c71c18\")>,\n",
       " <selenium.webdriver.remote.webelement.WebElement (session=\"4801f17682a754565b9162831553ae32\", element=\"ec04b73c-f21e-4e1e-b554-ccbce196ce5b\")>,\n",
       " <selenium.webdriver.remote.webelement.WebElement (session=\"4801f17682a754565b9162831553ae32\", element=\"2ff63d8e-abe6-465e-8936-98151dcbbe49\")>,\n",
       " <selenium.webdriver.remote.webelement.WebElement (session=\"4801f17682a754565b9162831553ae32\", element=\"89d1c8de-ac38-4267-995a-bde5cf3cf8bf\")>,\n",
       " <selenium.webdriver.remote.webelement.WebElement (session=\"4801f17682a754565b9162831553ae32\", element=\"f160ffce-a1ff-48e1-96d1-6e4628fdb637\")>,\n",
       " <selenium.webdriver.remote.webelement.WebElement (session=\"4801f17682a754565b9162831553ae32\", element=\"e31642a1-9d9c-4af1-b0bb-97ca1b8a39ea\")>,\n",
       " <selenium.webdriver.remote.webelement.WebElement (session=\"4801f17682a754565b9162831553ae32\", element=\"cc062a07-53f5-4a83-920a-64964a7917b5\")>]"
      ]
     },
     "execution_count": 7,
     "metadata": {},
     "output_type": "execute_result"
    }
   ],
   "source": [
    "# O resultado retornado é apenas os elementos web.\n",
    "# Vamos extrair o texto desses elementos usando o hmtl.parser\n",
    "resultado"
   ]
  },
  {
   "cell_type": "code",
   "execution_count": 8,
   "id": "dea008ca",
   "metadata": {
    "scrolled": true
   },
   "outputs": [],
   "source": [
    "# Loop pelos resultados do scraping e extração dos dados nas tags HTML do nosso interesse\n",
    "\n",
    "for vaga in resultado:\n",
    "    \n",
    "    # Vamos coletar o elemento HTML interno\n",
    "    result_html = vaga.get_attribute('innerHTML')\n",
    "    \n",
    "    # Aqui fazemos o parser do código HTML\n",
    "    soup = BeautifulSoup(result_html, 'html.parser')\n",
    "    \n",
    "    # Aqui buscamos as tags para análise\n",
    "    # Usando blocos try/except para evitar erros na execução, no caso de uma informação não estar disponível na vaga\n",
    "    \n",
    "    # Título da vaga\n",
    "    try:\n",
    "        title = soup.find(\"h2\", class_ = \"jobTitle\").text.replace('\\n', '')\n",
    "    except:\n",
    "        title = 'None'\n",
    "        \n",
    "    # Localidade\n",
    "    try:\n",
    "        location = soup.find(class_ = \"companyLocation\").text\n",
    "    except:\n",
    "        location = 'None'\n",
    "        \n",
    "    # Empresa\n",
    "    try:\n",
    "        company = soup.find(class_ = \"companyName\").text.replace('\\n', '').strip()\n",
    "    except:\n",
    "        company = 'None'\n",
    "        \n",
    "    # Salário\n",
    "    try:\n",
    "        salary = soup.find(\"a\", class_ = \"salary\").text.replace('\\n','').strip()\n",
    "    except:\n",
    "        salary = 'None'\n",
    "        \n",
    "        \n",
    "    # Tipo de pesquisa (orgânica ou patrocinada)\n",
    "    try:\n",
    "        sponsored = soup.find(\"a\", class_ = \"sponsoredGray\").text\n",
    "        sponsored = \"Sponsored\"\n",
    "    except:\n",
    "        sponsored = 'Organic'\n",
    "        \n",
    "    # Avaliações Empresa\n",
    "    try:\n",
    "        stars = soup.find(\"span\", class_ = \"ratingNumber\").get_text() #text.replace(',', '.').strip()\n",
    "    except:\n",
    "        stars = '0'\n",
    "        \n",
    "    # Descrição da vaga\n",
    "    try:\n",
    "        job_desc = soup.find(\"tr\", class_ = \"underShelfFooter\").text.replace('\\n', '').strip()\n",
    "    except:\n",
    "        job_desc = 'None'\n",
    "    \n",
    "    # Gravamos o resultado em nosso dataframe\n",
    "    dados = dados.append({\"Título\":title,\n",
    "                          \"Localidade\": location,\n",
    "                          \"Empresa\": company,\n",
    "                          \"Salario\": salary,\n",
    "                          \"Tipo_Pesquisa\" : sponsored,\n",
    "                          \"Desc\": job_desc,\n",
    "                          \"Avaliações\": stars},\n",
    "                          #\"Benefícios\": beneficios},\n",
    "                          ignore_index = True)"
   ]
  },
  {
   "cell_type": "code",
   "execution_count": 9,
   "id": "ee361f37",
   "metadata": {},
   "outputs": [
    {
     "data": {
      "text/plain": [
       "(15, 7)"
      ]
     },
     "execution_count": 9,
     "metadata": {},
     "output_type": "execute_result"
    }
   ],
   "source": [
    "dados.shape"
   ]
  },
  {
   "cell_type": "code",
   "execution_count": 10,
   "id": "b1c99750",
   "metadata": {},
   "outputs": [
    {
     "data": {
      "text/html": [
       "<div>\n",
       "<style scoped>\n",
       "    .dataframe tbody tr th:only-of-type {\n",
       "        vertical-align: middle;\n",
       "    }\n",
       "\n",
       "    .dataframe tbody tr th {\n",
       "        vertical-align: top;\n",
       "    }\n",
       "\n",
       "    .dataframe thead th {\n",
       "        text-align: right;\n",
       "    }\n",
       "</style>\n",
       "<table border=\"1\" class=\"dataframe\">\n",
       "  <thead>\n",
       "    <tr style=\"text-align: right;\">\n",
       "      <th></th>\n",
       "      <th>Título</th>\n",
       "      <th>Localidade</th>\n",
       "      <th>Empresa</th>\n",
       "      <th>Salario</th>\n",
       "      <th>Tipo_Pesquisa</th>\n",
       "      <th>Desc</th>\n",
       "      <th>Avaliações</th>\n",
       "    </tr>\n",
       "  </thead>\n",
       "  <tbody>\n",
       "    <tr>\n",
       "      <th>0</th>\n",
       "      <td>Data Science Intern</td>\n",
       "      <td>Home office</td>\n",
       "      <td>Big Data</td>\n",
       "      <td>None</td>\n",
       "      <td>Organic</td>\n",
       "      <td>Conhecimentos de estatística e probabilidade a...</td>\n",
       "      <td>0</td>\n",
       "    </tr>\n",
       "    <tr>\n",
       "      <th>1</th>\n",
       "      <td>Data Scientist Jr</td>\n",
       "      <td>Home office in São Paulo, SP</td>\n",
       "      <td>Remessa Online</td>\n",
       "      <td>None</td>\n",
       "      <td>Organic</td>\n",
       "      <td>Como será o dia a dia.Desenvolver decisores no...</td>\n",
       "      <td>3,7</td>\n",
       "    </tr>\n",
       "    <tr>\n",
       "      <th>2</th>\n",
       "      <td>Data Science</td>\n",
       "      <td>Home office</td>\n",
       "      <td>Cielo</td>\n",
       "      <td>None</td>\n",
       "      <td>Organic</td>\n",
       "      <td>Experiência em analytics, data science, ecomme...</td>\n",
       "      <td>4,2</td>\n",
       "    </tr>\n",
       "    <tr>\n",
       "      <th>3</th>\n",
       "      <td>Data Science Lead</td>\n",
       "      <td>Home office</td>\n",
       "      <td>PIER.</td>\n",
       "      <td>None</td>\n",
       "      <td>Organic</td>\n",
       "      <td>Conhecimento em metodologias de Data Science e...</td>\n",
       "      <td>0</td>\n",
       "    </tr>\n",
       "    <tr>\n",
       "      <th>4</th>\n",
       "      <td>Estágio em Data Science e Analytics</td>\n",
       "      <td>São Paulo, SP</td>\n",
       "      <td>TransUnion</td>\n",
       "      <td>None</td>\n",
       "      <td>Organic</td>\n",
       "      <td>Conhecimento em programação SQL e R (desejável...</td>\n",
       "      <td>3,8</td>\n",
       "    </tr>\n",
       "    <tr>\n",
       "      <th>5</th>\n",
       "      <td>novaData Scientist - LATAM</td>\n",
       "      <td>Home office in São Paulo, SP</td>\n",
       "      <td>Signifyd</td>\n",
       "      <td>None</td>\n",
       "      <td>Organic</td>\n",
       "      <td>Designing experiments and collecting data.Bach...</td>\n",
       "      <td>0</td>\n",
       "    </tr>\n",
       "    <tr>\n",
       "      <th>6</th>\n",
       "      <td>DATA SCIENCE SPECIALIST - SUMARE</td>\n",
       "      <td>Sumaré, SP</td>\n",
       "      <td>OEmprego</td>\n",
       "      <td>None</td>\n",
       "      <td>Organic</td>\n",
       "      <td>Proven knowledge in Data processes – data tran...</td>\n",
       "      <td>0</td>\n",
       "    </tr>\n",
       "    <tr>\n",
       "      <th>7</th>\n",
       "      <td>Data Scientist - Cientista de Dados</td>\n",
       "      <td>Home office in São Paulo, SP</td>\n",
       "      <td>Capim</td>\n",
       "      <td>None</td>\n",
       "      <td>Organic</td>\n",
       "      <td>Mínimo de experiência de 3 anos em data scienc...</td>\n",
       "      <td>0</td>\n",
       "    </tr>\n",
       "    <tr>\n",
       "      <th>8</th>\n",
       "      <td>novaEstagiário de Data Science</td>\n",
       "      <td>Home office in Fortaleza, CE</td>\n",
       "      <td>FortBrasil</td>\n",
       "      <td>None</td>\n",
       "      <td>Organic</td>\n",
       "      <td>Desejável Conhecimento em Power BI;Convênio co...</td>\n",
       "      <td>4,3</td>\n",
       "    </tr>\n",
       "    <tr>\n",
       "      <th>9</th>\n",
       "      <td>Analista de Data Science</td>\n",
       "      <td>São Paulo, SP</td>\n",
       "      <td>Konecta Brasil</td>\n",
       "      <td>None</td>\n",
       "      <td>Organic</td>\n",
       "      <td>Experiência com Python/R e SQL para análise e ...</td>\n",
       "      <td>3,6</td>\n",
       "    </tr>\n",
       "    <tr>\n",
       "      <th>10</th>\n",
       "      <td>novaData Engineer</td>\n",
       "      <td>Home office</td>\n",
       "      <td>Tunts.Rocks</td>\n",
       "      <td>None</td>\n",
       "      <td>Organic</td>\n",
       "      <td>Research new ways to interpret and utilize the...</td>\n",
       "      <td>0</td>\n",
       "    </tr>\n",
       "    <tr>\n",
       "      <th>11</th>\n",
       "      <td>Data Scientist</td>\n",
       "      <td>Home office</td>\n",
       "      <td>Cielo</td>\n",
       "      <td>None</td>\n",
       "      <td>Organic</td>\n",
       "      <td>Essa pessoa terá a sua disposição um time de e...</td>\n",
       "      <td>4,2</td>\n",
       "    </tr>\n",
       "    <tr>\n",
       "      <th>12</th>\n",
       "      <td>novaMedical Data Reviewer 2</td>\n",
       "      <td>São Paulo, SP</td>\n",
       "      <td>PRA Health Sciences</td>\n",
       "      <td>None</td>\n",
       "      <td>Organic</td>\n",
       "      <td>Overview ICON plc is a world-leading healthcar...</td>\n",
       "      <td>3,5</td>\n",
       "    </tr>\n",
       "    <tr>\n",
       "      <th>13</th>\n",
       "      <td>Data Scientist - Remote</td>\n",
       "      <td>Home office</td>\n",
       "      <td>The Bridge Vagas</td>\n",
       "      <td>None</td>\n",
       "      <td>Organic</td>\n",
       "      <td>He/she will be leading all data science activi...</td>\n",
       "      <td>0</td>\n",
       "    </tr>\n",
       "    <tr>\n",
       "      <th>14</th>\n",
       "      <td>novaData Scientist-Advanced Analytics</td>\n",
       "      <td>São Paulo, SP+1 local</td>\n",
       "      <td>IBM</td>\n",
       "      <td>None</td>\n",
       "      <td>Organic</td>\n",
       "      <td>As a Data Scientist at IBM, you will help tran...</td>\n",
       "      <td>3,9</td>\n",
       "    </tr>\n",
       "  </tbody>\n",
       "</table>\n",
       "</div>"
      ],
      "text/plain": [
       "                                   Título                    Localidade  \\\n",
       "0                     Data Science Intern                   Home office   \n",
       "1                       Data Scientist Jr  Home office in São Paulo, SP   \n",
       "2                            Data Science                   Home office   \n",
       "3                       Data Science Lead                   Home office   \n",
       "4     Estágio em Data Science e Analytics                 São Paulo, SP   \n",
       "5              novaData Scientist - LATAM  Home office in São Paulo, SP   \n",
       "6        DATA SCIENCE SPECIALIST - SUMARE                    Sumaré, SP   \n",
       "7     Data Scientist - Cientista de Dados  Home office in São Paulo, SP   \n",
       "8          novaEstagiário de Data Science  Home office in Fortaleza, CE   \n",
       "9                Analista de Data Science                 São Paulo, SP   \n",
       "10                      novaData Engineer                   Home office   \n",
       "11                         Data Scientist                   Home office   \n",
       "12            novaMedical Data Reviewer 2                 São Paulo, SP   \n",
       "13                Data Scientist - Remote                   Home office   \n",
       "14  novaData Scientist-Advanced Analytics         São Paulo, SP+1 local   \n",
       "\n",
       "                Empresa Salario Tipo_Pesquisa  \\\n",
       "0              Big Data    None       Organic   \n",
       "1        Remessa Online    None       Organic   \n",
       "2                 Cielo    None       Organic   \n",
       "3                 PIER.    None       Organic   \n",
       "4            TransUnion    None       Organic   \n",
       "5              Signifyd    None       Organic   \n",
       "6              OEmprego    None       Organic   \n",
       "7                 Capim    None       Organic   \n",
       "8            FortBrasil    None       Organic   \n",
       "9        Konecta Brasil    None       Organic   \n",
       "10          Tunts.Rocks    None       Organic   \n",
       "11                Cielo    None       Organic   \n",
       "12  PRA Health Sciences    None       Organic   \n",
       "13     The Bridge Vagas    None       Organic   \n",
       "14                  IBM    None       Organic   \n",
       "\n",
       "                                                 Desc Avaliações  \n",
       "0   Conhecimentos de estatística e probabilidade a...          0  \n",
       "1   Como será o dia a dia.Desenvolver decisores no...        3,7  \n",
       "2   Experiência em analytics, data science, ecomme...        4,2  \n",
       "3   Conhecimento em metodologias de Data Science e...          0  \n",
       "4   Conhecimento em programação SQL e R (desejável...        3,8  \n",
       "5   Designing experiments and collecting data.Bach...          0  \n",
       "6   Proven knowledge in Data processes – data tran...          0  \n",
       "7   Mínimo de experiência de 3 anos em data scienc...          0  \n",
       "8   Desejável Conhecimento em Power BI;Convênio co...        4,3  \n",
       "9   Experiência com Python/R e SQL para análise e ...        3,6  \n",
       "10  Research new ways to interpret and utilize the...          0  \n",
       "11  Essa pessoa terá a sua disposição um time de e...        4,2  \n",
       "12  Overview ICON plc is a world-leading healthcar...        3,5  \n",
       "13  He/she will be leading all data science activi...          0  \n",
       "14  As a Data Scientist at IBM, you will help tran...        3,9  "
      ]
     },
     "execution_count": 10,
     "metadata": {},
     "output_type": "execute_result"
    }
   ],
   "source": [
    "dados.head(285)"
   ]
  },
  {
   "cell_type": "code",
   "execution_count": 11,
   "id": "f45623f5",
   "metadata": {},
   "outputs": [],
   "source": [
    "# Salvando os dados em disco\n",
    "dados.to_csv('resultado/dados.csv', encoding = \"utf-8\", index = False)"
   ]
  },
  {
   "cell_type": "markdown",
   "id": "465ca649",
   "metadata": {},
   "source": [
    "## Análise de dados"
   ]
  },
  {
   "cell_type": "code",
   "execution_count": 12,
   "id": "f094d2a0",
   "metadata": {},
   "outputs": [],
   "source": [
    "# Carregando o dadaset\n",
    "df = pd.read_csv(\"resultado/dados.csv\", encoding = \"utf-8\")"
   ]
  },
  {
   "cell_type": "code",
   "execution_count": 13,
   "id": "ac33c4aa",
   "metadata": {},
   "outputs": [
    {
     "data": {
      "text/plain": [
       "(15, 7)"
      ]
     },
     "execution_count": 13,
     "metadata": {},
     "output_type": "execute_result"
    }
   ],
   "source": [
    "df.shape"
   ]
  },
  {
   "cell_type": "code",
   "execution_count": 14,
   "id": "d3cc6d7f",
   "metadata": {},
   "outputs": [
    {
     "data": {
      "text/html": [
       "<div>\n",
       "<style scoped>\n",
       "    .dataframe tbody tr th:only-of-type {\n",
       "        vertical-align: middle;\n",
       "    }\n",
       "\n",
       "    .dataframe tbody tr th {\n",
       "        vertical-align: top;\n",
       "    }\n",
       "\n",
       "    .dataframe thead th {\n",
       "        text-align: right;\n",
       "    }\n",
       "</style>\n",
       "<table border=\"1\" class=\"dataframe\">\n",
       "  <thead>\n",
       "    <tr style=\"text-align: right;\">\n",
       "      <th></th>\n",
       "      <th>Título</th>\n",
       "      <th>Localidade</th>\n",
       "      <th>Empresa</th>\n",
       "      <th>Salario</th>\n",
       "      <th>Tipo_Pesquisa</th>\n",
       "      <th>Desc</th>\n",
       "      <th>Avaliações</th>\n",
       "    </tr>\n",
       "  </thead>\n",
       "  <tbody>\n",
       "    <tr>\n",
       "      <th>0</th>\n",
       "      <td>Data Science Intern</td>\n",
       "      <td>Home office</td>\n",
       "      <td>Big Data</td>\n",
       "      <td>None</td>\n",
       "      <td>Organic</td>\n",
       "      <td>Conhecimentos de estatística e probabilidade a...</td>\n",
       "      <td>0</td>\n",
       "    </tr>\n",
       "    <tr>\n",
       "      <th>1</th>\n",
       "      <td>Data Scientist Jr</td>\n",
       "      <td>Home office in São Paulo, SP</td>\n",
       "      <td>Remessa Online</td>\n",
       "      <td>None</td>\n",
       "      <td>Organic</td>\n",
       "      <td>Como será o dia a dia.Desenvolver decisores no...</td>\n",
       "      <td>3,7</td>\n",
       "    </tr>\n",
       "    <tr>\n",
       "      <th>2</th>\n",
       "      <td>Data Science</td>\n",
       "      <td>Home office</td>\n",
       "      <td>Cielo</td>\n",
       "      <td>None</td>\n",
       "      <td>Organic</td>\n",
       "      <td>Experiência em analytics, data science, ecomme...</td>\n",
       "      <td>4,2</td>\n",
       "    </tr>\n",
       "    <tr>\n",
       "      <th>3</th>\n",
       "      <td>Data Science Lead</td>\n",
       "      <td>Home office</td>\n",
       "      <td>PIER.</td>\n",
       "      <td>None</td>\n",
       "      <td>Organic</td>\n",
       "      <td>Conhecimento em metodologias de Data Science e...</td>\n",
       "      <td>0</td>\n",
       "    </tr>\n",
       "    <tr>\n",
       "      <th>4</th>\n",
       "      <td>Estágio em Data Science e Analytics</td>\n",
       "      <td>São Paulo, SP</td>\n",
       "      <td>TransUnion</td>\n",
       "      <td>None</td>\n",
       "      <td>Organic</td>\n",
       "      <td>Conhecimento em programação SQL e R (desejável...</td>\n",
       "      <td>3,8</td>\n",
       "    </tr>\n",
       "  </tbody>\n",
       "</table>\n",
       "</div>"
      ],
      "text/plain": [
       "                                Título                    Localidade  \\\n",
       "0                  Data Science Intern                   Home office   \n",
       "1                    Data Scientist Jr  Home office in São Paulo, SP   \n",
       "2                         Data Science                   Home office   \n",
       "3                    Data Science Lead                   Home office   \n",
       "4  Estágio em Data Science e Analytics                 São Paulo, SP   \n",
       "\n",
       "          Empresa Salario Tipo_Pesquisa  \\\n",
       "0        Big Data    None       Organic   \n",
       "1  Remessa Online    None       Organic   \n",
       "2           Cielo    None       Organic   \n",
       "3           PIER.    None       Organic   \n",
       "4      TransUnion    None       Organic   \n",
       "\n",
       "                                                Desc Avaliações  \n",
       "0  Conhecimentos de estatística e probabilidade a...          0  \n",
       "1  Como será o dia a dia.Desenvolver decisores no...        3,7  \n",
       "2  Experiência em analytics, data science, ecomme...        4,2  \n",
       "3  Conhecimento em metodologias de Data Science e...          0  \n",
       "4  Conhecimento em programação SQL e R (desejável...        3,8  "
      ]
     },
     "execution_count": 14,
     "metadata": {},
     "output_type": "execute_result"
    }
   ],
   "source": [
    "df.head()"
   ]
  },
  {
   "cell_type": "code",
   "execution_count": 15,
   "id": "d4231e51",
   "metadata": {},
   "outputs": [
    {
     "data": {
      "text/plain": [
       "Organic    15\n",
       "Name: Tipo_Pesquisa, dtype: int64"
      ]
     },
     "execution_count": 15,
     "metadata": {},
     "output_type": "execute_result"
    }
   ],
   "source": [
    "# Vamos contar o total de registros por valor da coluna \"Tipo_Pesquisa\"\n",
    "df[\"Tipo_Pesquisa\"].value_counts()"
   ]
  },
  {
   "cell_type": "markdown",
   "id": "139b0b19",
   "metadata": {},
   "source": [
    "### Quais empresas tem o maior número de vagas listadas ?"
   ]
  },
  {
   "cell_type": "code",
   "execution_count": 16,
   "id": "41bd09ec",
   "metadata": {},
   "outputs": [],
   "source": [
    "# Agrupar o datasert por empresa\n",
    "grupo = df.groupby(\"Empresa\").count()[\"Título\"].sort_values(ascending = False)[:20]"
   ]
  },
  {
   "cell_type": "code",
   "execution_count": 17,
   "id": "342cf489",
   "metadata": {},
   "outputs": [
    {
     "data": {
      "text/plain": [
       "Empresa\n",
       "Cielo         2\n",
       "Big Data      1\n",
       "Capim         1\n",
       "FortBrasil    1\n",
       "IBM           1\n",
       "Name: Título, dtype: int64"
      ]
     },
     "execution_count": 17,
     "metadata": {},
     "output_type": "execute_result"
    }
   ],
   "source": [
    "# Visualiza os dados\n",
    "grupo.head()"
   ]
  },
  {
   "cell_type": "code",
   "execution_count": 18,
   "id": "858e6784",
   "metadata": {},
   "outputs": [
    {
     "data": {
      "text/plain": [
       "<AxesSubplot:xlabel='Empresa'>"
      ]
     },
     "execution_count": 18,
     "metadata": {},
     "output_type": "execute_result"
    },
    {
     "data": {
      "image/png": "[encoded data removed]",
      "text/plain": [
       "<Figure size 720x432 with 1 Axes>"
      ]
     },
     "metadata": {
      "needs_background": "light"
     },
     "output_type": "display_data"
    }
   ],
   "source": [
    "# Gráfico \n",
    "grupo.plot(kind = \"bar\", figsize = (10,6), color = \"green\", rot = 60)"
   ]
  },
  {
   "cell_type": "markdown",
   "id": "26504704",
   "metadata": {},
   "source": [
    "### Quais os skills mais comuns nas descrições das vagas ?"
   ]
  },
  {
   "cell_type": "code",
   "execution_count": 19,
   "id": "edc03bd4",
   "metadata": {},
   "outputs": [],
   "source": [
    "# Função de limpeza dos dados\n",
    "def limpa_dados(desc):\n",
    "    desc = word_tokenize(desc)\n",
    "    desc = [word.lower() for word in desc if word.isalpha() and len(word) > 2]\n",
    "    desc = [word for word in desc if word not in stop_words_pt]\n",
    "    desc = [word for word in desc if word not in stop_words_en]\n",
    "    return desc"
   ]
  },
  {
   "cell_type": "code",
   "execution_count": 20,
   "id": "bf776c87",
   "metadata": {},
   "outputs": [],
   "source": [
    "# Aqui iremos definir a lista de stopwords em português\n",
    "stop_words_pt = stopwords.words('portuguese')"
   ]
  },
  {
   "cell_type": "code",
   "execution_count": 21,
   "id": "dd652bbb",
   "metadata": {},
   "outputs": [],
   "source": [
    "# Aqui iremos definir a lista de stopwords em inglês\n",
    "stop_words_en = stopwords.words('english')"
   ]
  },
  {
   "cell_type": "code",
   "execution_count": 22,
   "id": "aca98857",
   "metadata": {},
   "outputs": [],
   "source": [
    "# Aplicamos a função de limpeza na coluna de descrição da vaga\n",
    "desc_vagas = df[\"Desc\"].apply(limpa_dados)"
   ]
  },
  {
   "cell_type": "code",
   "execution_count": 23,
   "id": "e97d3a2a",
   "metadata": {},
   "outputs": [
    {
     "data": {
      "text/plain": [
       "0    [conhecimentos, estatística, probabilidade, ní...\n",
       "1    [dia, decisores, produto, compliance, crm, mei...\n",
       "2    [experiência, analytics, data, science, ecomme...\n",
       "3    [conhecimento, metodologias, data, science, ma...\n",
       "4    [conhecimento, programação, sql, desejável, in...\n",
       "Name: Desc, dtype: object"
      ]
     },
     "execution_count": 23,
     "metadata": {},
     "output_type": "execute_result"
    }
   ],
   "source": [
    "# Visualizamos os dados\n",
    "desc_vagas.head()"
   ]
  },
  {
   "cell_type": "code",
   "execution_count": 24,
   "id": "db6f6778",
   "metadata": {},
   "outputs": [],
   "source": [
    "# Vamos sumarizar as descrições \n",
    "desc_itens = desc_vagas.apply(Counter).sum().items()"
   ]
  },
  {
   "cell_type": "code",
   "execution_count": 25,
   "id": "01ef7c85",
   "metadata": {},
   "outputs": [],
   "source": [
    "# Ordenar os resultados\n",
    "desc_itens = sorted(desc_itens, key = lambda kv: kv[1], reverse = True)"
   ]
  },
  {
   "cell_type": "code",
   "execution_count": 26,
   "id": "e4090d51",
   "metadata": {},
   "outputs": [],
   "source": [
    "# Criamos uma série\n",
    "desc_itens_series = pd.Series({k : v for k, v in desc_itens})"
   ]
  },
  {
   "cell_type": "code",
   "execution_count": 27,
   "id": "2ea61a6d",
   "metadata": {},
   "outputs": [
    {
     "data": {
      "text/plain": [
       "data           31\n",
       "vagas          16\n",
       "visualizar     15\n",
       "todas          15\n",
       "emprego        15\n",
       "empregos       15\n",
       "salário        15\n",
       "salários       15\n",
       "science        13\n",
       "paulobusca      7\n",
       "remotobusca     6\n",
       "scientist       6\n",
       "paulo           6\n",
       "principais      6\n",
       "perguntas       6\n",
       "dtype: int64"
      ]
     },
     "execution_count": 27,
     "metadata": {},
     "output_type": "execute_result"
    }
   ],
   "source": [
    "# Visualizando os dados com a contagem de palavras mais frequentes \n",
    "desc_itens_series.head(15)"
   ]
  },
  {
   "cell_type": "code",
   "execution_count": 28,
   "id": "f972fb9f",
   "metadata": {},
   "outputs": [],
   "source": [
    "# Aqui iremos criar uma lista de skills e pesquisar como eles aparem nas descrições\n",
    "skills = [\"python\", \"statistics\", \"analytics\", \"business\", \"projects\", \"develop\",\n",
    "          \"estatística\", \"r\", \"sql\", \"data analysis\", \"machine learning\", \"power bi\",\n",
    "          \"data science\", \"python/r\", \"bi\", \"estatisticas\", \"análise\", \"scientist\",\n",
    "           \"probabilidade\", \"spark\", \"hadoop\"]"
   ]
  },
  {
   "cell_type": "code",
   "execution_count": 29,
   "id": "db5ae8f9",
   "metadata": {},
   "outputs": [],
   "source": [
    "# Filtramos a séries com os skills\n",
    "filtro_skills = desc_itens_series.filter(items = skills)"
   ]
  },
  {
   "cell_type": "code",
   "execution_count": 30,
   "id": "5d52fa4c",
   "metadata": {},
   "outputs": [
    {
     "data": {
      "text/plain": [
       "<AxesSubplot:>"
      ]
     },
     "execution_count": 30,
     "metadata": {},
     "output_type": "execute_result"
    },
    {
     "data": {
      "image/png": "[encoded data removed]",
      "text/plain": [
       "<Figure size 1296x432 with 1 Axes>"
      ]
     },
     "metadata": {
      "needs_background": "light"
     },
     "output_type": "display_data"
    }
   ],
   "source": [
    "# Criamos o plot\n",
    "filtro_skills.plot(kind = 'bar', figsize = (18, 6), color = \"pink\", rot = 30)"
   ]
  }
 ],
 "metadata": {
  "kernelspec": {
   "display_name": "Python 3 (ipykernel)",
   "language": "python",
   "name": "python3"
  },
  "language_info": {
   "codemirror_mode": {
    "name": "ipython",
    "version": 3
   },
   "file_extension": ".py",
   "mimetype": "text/x-python",
   "name": "python",
   "nbconvert_exporter": "python",
   "pygments_lexer": "ipython3",
   "version": "3.7.1"
  }
 },
 "nbformat": 4,
 "nbformat_minor": 5
}
